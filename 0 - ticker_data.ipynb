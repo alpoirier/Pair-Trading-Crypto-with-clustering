{
 "cells": [
  {
   "cell_type": "code",
   "execution_count": 1,
   "id": "63d7009a-a398-4ca5-aef8-d4e43f74074d",
   "metadata": {},
   "outputs": [
    {
     "name": "stdout",
     "output_type": "stream",
     "text": [
      "Collecting financedatabase\n",
      "  Downloading financedatabase-1.0.2-py3-none-any.whl (13 kB)\n",
      "Installing collected packages: financedatabase\n",
      "Successfully installed financedatabase-1.0.2\n"
     ]
    }
   ],
   "source": [
    "!pip install financedatabase\n"
   ]
  },
  {
   "cell_type": "code",
   "execution_count": 5,
   "id": "73146354-b5fd-49a0-9cf1-f689cf78eac2",
   "metadata": {},
   "outputs": [],
   "source": [
    "import financedatabase as fd\n",
    "import pandas as pd"
   ]
  },
  {
   "cell_type": "code",
   "execution_count": 11,
   "id": "cfd49489-3434-42bf-9f3a-1ae906f191d4",
   "metadata": {},
   "outputs": [],
   "source": [
    "tickers = pd.DataFrame(fd.select_cryptocurrencies(cryptocurrency=None)).columns.values"
   ]
  },
  {
   "cell_type": "code",
   "execution_count": 15,
   "id": "f42ead55-de19-4597-aff7-123a0ca21f3b",
   "metadata": {},
   "outputs": [],
   "source": [
    "pd.DataFrame(tickers).to_csv('Data/crypto_tickers.csv', index=False)"
   ]
  },
  {
   "cell_type": "code",
   "execution_count": null,
   "id": "303c2f90-653c-4c03-8fd7-70c080a92943",
   "metadata": {},
   "outputs": [],
   "source": []
  }
 ],
 "metadata": {
  "kernelspec": {
   "display_name": "Python 3 (ipykernel)",
   "language": "python",
   "name": "python3"
  },
  "language_info": {
   "codemirror_mode": {
    "name": "ipython",
    "version": 3
   },
   "file_extension": ".py",
   "mimetype": "text/x-python",
   "name": "python",
   "nbconvert_exporter": "python",
   "pygments_lexer": "ipython3",
   "version": "3.9.12"
  }
 },
 "nbformat": 4,
 "nbformat_minor": 5
}
